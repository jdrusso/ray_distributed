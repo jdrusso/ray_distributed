{
 "cells": [
  {
   "cell_type": "code",
   "execution_count": 6,
   "id": "0333b27e",
   "metadata": {},
   "outputs": [],
   "source": [
    "import socket\n",
    "import ray"
   ]
  },
  {
   "cell_type": "code",
   "execution_count": 2,
   "id": "96fd78b1",
   "metadata": {},
   "outputs": [
    {
     "name": "stderr",
     "output_type": "stream",
     "text": [
      "2021-07-21 12:35:11,638\tINFO worker.py:655 -- Connecting to existing Ray cluster at address: 192.168.1.200:6970\n"
     ]
    }
   ],
   "source": [
    "ray_password = open('password.dat').read().strip('\\n')\n",
    "\n",
    "try:     \n",
    "    ray.shutdown()\n",
    "except:  \n",
    "    print(\"Ray not started yet\")\n",
    "finally: \n",
    "    ray.init(address='auto', _redis_password=ray_password)"
   ]
  },
  {
   "cell_type": "code",
   "execution_count": 7,
   "id": "50107b35",
   "metadata": {},
   "outputs": [],
   "source": [
    "@ray.remote\n",
    "def f(x):\n",
    "    print(f\"Running on {socket.gethostname()}\")\n",
    "    return x * x"
   ]
  },
  {
   "cell_type": "code",
   "execution_count": 11,
   "id": "c631b48d",
   "metadata": {},
   "outputs": [
    {
     "data": {
      "text/plain": [
       "4"
      ]
     },
     "execution_count": 11,
     "metadata": {},
     "output_type": "execute_result"
    },
    {
     "name": "stdout",
     "output_type": "stream",
     "text": [
      "\u001b[2m\u001b[36m(pid=9088, ip=192.168.1.222)\u001b[0m Running on DESKTOP-3LE29NM\n",
      "\u001b[2m\u001b[36m(pid=9088, ip=192.168.1.222)\u001b[0m Running on DESKTOP-3LE29NM\n",
      "\u001b[2m\u001b[36m(pid=15504, ip=192.168.1.222)\u001b[0m Running on DESKTOP-3LE29NM\n"
     ]
    }
   ],
   "source": [
    "x = f.remote(0)\n",
    "y = f.remote(x)\n",
    "z = f.remote(2)\n",
    "ray.get(z) # 3"
   ]
  },
  {
   "cell_type": "code",
   "execution_count": null,
   "id": "7edb0cd4",
   "metadata": {},
   "outputs": [],
   "source": []
  }
 ],
 "metadata": {
  "kernelspec": {
   "display_name": "Python 3",
   "language": "python",
   "name": "python3"
  },
  "language_info": {
   "codemirror_mode": {
    "name": "ipython",
    "version": 3
   },
   "file_extension": ".py",
   "mimetype": "text/x-python",
   "name": "python",
   "nbconvert_exporter": "python",
   "pygments_lexer": "ipython3",
   "version": "3.7.7"
  }
 },
 "nbformat": 4,
 "nbformat_minor": 5
}
